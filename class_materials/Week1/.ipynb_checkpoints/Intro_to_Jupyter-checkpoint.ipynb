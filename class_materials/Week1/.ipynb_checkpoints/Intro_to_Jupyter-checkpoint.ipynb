{
 "cells": [
  {
   "cell_type": "markdown",
   "metadata": {
    "slideshow": {
     "slide_type": "slide"
    }
   },
   "source": [
    "# Working with JupyterHub and Jupyter notebooks\n",
    "\n",
    "This class will involve a lot of work with data using Python 3. To ensure that we're all using the same Python environment, we will be using JupyterHub to interact with a shared Virtual Machine (VM). You can choose whether to work on assignments and exercises in JupyterHub or on your computer, but I will distribute class materials through this service and you will submit your assignments here."
   ]
  },
  {
   "cell_type": "markdown",
   "metadata": {
    "slideshow": {
     "slide_type": "slide"
    }
   },
   "source": [
    "## What is JupyterHub?\n",
    "\n",
    "JupyterHub allows multiple users to run Jupyter notebooks using shared resources. In our case, that means we're all sharing processors and RAM, and it also means that we're running off the same installation of Python (via anaconda).\n",
    "\n",
    "JupyterHub uses a browser to provide a GUI* to interact with the VM that it is running on.  \n",
    "\\**This is the same GUI that Jupyter Notebooks uses if you run Notebooks on your local machine.*\n",
    "![GUI_image](./resources/GUI_image.png)\n"
   ]
  },
  {
   "cell_type": "markdown",
   "metadata": {},
   "source": [
    "Using JupyterHub, we can edit file paths and directory structure (i.e., rename items, create new folders, and move items around). \n",
    "![GUI_file_edit_image](./resources/GUI_file_edit_image.png)\n",
    "We can also upload new files and create new plaintext files (which can be used to make CSVs, JSONs, and other file types that are formatted in UTF-8 with no special encoding). If we need to, we can also open a terminal and use normal Linux bash commands.\n",
    "![GUI_operations_image](./resources/GUI_operations_image.png)\n",
    "\n",
    " "
   ]
  },
  {
   "cell_type": "markdown",
   "metadata": {},
   "source": [
    "## Jupyter Notebooks\n",
    "\n",
    "The most common thing we will do with JupyterHub, though, is create and edit Python 3 notebooks.\n",
    "![GUI_create_notebook_image](./resources/GUI_create_notebook_image.png)\n",
    "\n",
    "This object we are looking at now is a Jupyter notebook running a Python 3 kernel.\n",
    "By using notebooks instead of some other coding environment (like an interactive Python session), we can mix text (in Markdown syntax) with Python code and the output of Python code.\n",
    "Because we are using JupyterHub to run notebooks instead of running them on our local machines, we don't have to worry about installation and setup. If you want to install and setup Jupyter Notebooks on your computer, though, you can do so via Anaconda or pip (see [this blog post](https://medium.com/codingthesmartway-com-blog/getting-started-with-jupyter-notebook-for-python-4e7082bd5d46) for more instructions)."
   ]
  },
  {
   "cell_type": "markdown",
   "metadata": {},
   "source": [
    "### Cells\n",
    "Notebooks organize contents by cells. Each cell can contain multiple lines, but all the lines in a cell must be the same format (i.e., a cell must be only Markdown or only Python code). We have to specify the format of the contents of each cell. \n",
    "By default, new cells are in Python format.  \n",
    "![Code_format](./resources/Code_format.png)  \n"
   ]
  },
  {
   "cell_type": "code",
   "execution_count": 1,
   "metadata": {},
   "outputs": [
    {
     "name": "stdout",
     "output_type": "stream",
     "text": [
      "I can write Python code in this notebook, too!\n"
     ]
    }
   ],
   "source": [
    "print(\"I can write Python code in this notebook, too!\")"
   ]
  },
  {
   "cell_type": "markdown",
   "metadata": {},
   "source": [
    "To switch to Markdown, we need to select \"Markdown\" instead of \"Code\" in the toolbar at the top of the window.  \n",
    "![change_to_markdown](./resources/change_to_markdown.png)"
   ]
  },
  {
   "cell_type": "markdown",
   "metadata": {},
   "source": [
    "We can also run some bash commands in the notebook by prepending code cells that contain bash commands with `!`"
   ]
  },
  {
   "cell_type": "code",
   "execution_count": null,
   "metadata": {},
   "outputs": [],
   "source": [
    "!pwd\n",
    "!ls -lh"
   ]
  },
  {
   "cell_type": "markdown",
   "metadata": {},
   "source": [
    "Python in Jupyter Notebooks has autocomplete, which helps a lot with coding! To pull up options for autocomplete, hit `tab` at any time.  \n",
    "Autocomplete works (at least in a limited fashion) with bash commands in the notebook, too, but it can be a bit confusing."
   ]
  },
  {
   "cell_type": "markdown",
   "metadata": {},
   "source": [
    "Any \"code\" cell will have an indicator on the side that lets you know whether the cell has been run. Cells that have been run will have a number inside the brackets. That number tells you the order in which run cells were executed.\n",
    "\n",
    "![code_run_pre](./resources/code_run_pre.png)\n",
    "![code_run_post](./resources/code_run_post.png)"
   ]
  },
  {
   "cell_type": "markdown",
   "metadata": {},
   "source": [
    "### Running Python\n",
    "\n",
    "When we are writing and running Python code in notebooks, we can think of cells as each containing a group of lines of code that are logically connected. In some cases, we might only write one line of code in a cell, but more often we'll write multiple lines.  \n",
    "As you've probably noticed by now, we don't run individual lines in the notebook. Instead, we run cells. That means that if there is more than one line of Python code in a cell, all of those lines of code will be executed when we run that cell. "
   ]
  },
  {
   "cell_type": "code",
   "execution_count": null,
   "metadata": {},
   "outputs": [],
   "source": [
    "addition = \"Adding numbers together\"\n",
    "seven = 2 + 5"
   ]
  },
  {
   "cell_type": "code",
   "execution_count": null,
   "metadata": {},
   "outputs": [],
   "source": [
    "print(addition)\n",
    "print(seven)"
   ]
  },
  {
   "cell_type": "markdown",
   "metadata": {},
   "source": [
    "You probably know that running some code even without explicit print statements leads to output. For example, run the next cell."
   ]
  },
  {
   "cell_type": "code",
   "execution_count": null,
   "metadata": {},
   "outputs": [],
   "source": [
    "2+5"
   ]
  },
  {
   "cell_type": "markdown",
   "metadata": {},
   "source": [
    "You might also know that if we run more than one line that generates output without an explicit print statement at the same time, only the last statement will actually generate its output. Remind yourself with the next cell."
   ]
  },
  {
   "cell_type": "code",
   "execution_count": null,
   "metadata": {},
   "outputs": [],
   "source": [
    "2 + 5\n",
    "4 * 2"
   ]
  },
  {
   "cell_type": "markdown",
   "metadata": {},
   "source": [
    "It's a good idea to include an explicit print statement any time we want the notebook to generate output."
   ]
  },
  {
   "cell_type": "code",
   "execution_count": null,
   "metadata": {},
   "outputs": [],
   "source": [
    "print(2+5)\n",
    "print(4*2)"
   ]
  },
  {
   "cell_type": "markdown",
   "metadata": {},
   "source": [
    "One of the great things about notebooks is that they can render visualizations generated in Python in the same window. In-line visualizations can be incredibly convenient, particularly as you are writing code and revising the viz."
   ]
  },
  {
   "cell_type": "code",
   "execution_count": null,
   "metadata": {},
   "outputs": [],
   "source": [
    "import pandas as pd\n",
    "import numpy as np\n",
    "\n",
    "data1 = [{\"Number\": 1, \"Even\": \"False\"}, {\"Number\": 2, \"Even\": \"True\"},\n",
    "        {\"Number\": 3, \"Even\": \"False\"}, {\"Number\": 4, \"Even\": \"True\"},\n",
    "        {\"Number\": 5, \"Even\": \"False\"}, {\"Number\": 6, \"Even\": \"True\"},\n",
    "        {\"Number\": 423, \"Even\": \"False\"}]\n",
    "data1 = pd.DataFrame(data1)\n",
    "data1 = data1[[\"Number\", \"Even\"]]\n",
    "data1[\"Even\"].value_counts().plot.pie()"
   ]
  },
  {
   "cell_type": "markdown",
   "metadata": {},
   "source": [
    "## Transferring Files\n",
    "\n",
    "Sometimes, you might find that you need to transfer files between your computer and JupyterHub. Jupyter makes that really easy.\n",
    "\n",
    "To download a file, simply click on the box beside the file. A list of possible file actions will appear above the list of files. One of those possibilities is \"download.\" If you click download, the file will be downloaded to your machine. Unfortunately, you can't select multiple files at once to download.\n",
    "\n",
    "![download_files](./resources/download_image.png)"
   ]
  },
  {
   "cell_type": "markdown",
   "metadata": {},
   "source": [
    "Uploading files is just as easy. Once you're in the folder you want to upload the file to, just click \"upload\" in the top right, then follow the normal file upload process. \n",
    "\n",
    "![upload_image](./resources/upload_image.png)\n",
    "\n",
    "Once you've selected the file you want to upload, Jupyter will give you a chance to change the name before it actually does the upload. **Make sure you click upload once you see a screen like this or your file won't actually be uploaded.**\n",
    "![upload_part2_image](./resources/upload_part2_image.png)"
   ]
  },
  {
   "cell_type": "code",
   "execution_count": null,
   "metadata": {},
   "outputs": [],
   "source": []
  }
 ],
 "metadata": {
  "kernelspec": {
   "display_name": "CINF496",
   "language": "python",
   "name": "cinf496"
  },
  "language_info": {
   "codemirror_mode": {
    "name": "ipython",
    "version": 3
   },
   "file_extension": ".py",
   "mimetype": "text/x-python",
   "name": "python",
   "nbconvert_exporter": "python",
   "pygments_lexer": "ipython3",
   "version": "3.7.3"
  }
 },
 "nbformat": 4,
 "nbformat_minor": 2
}
