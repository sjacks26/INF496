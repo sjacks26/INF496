{
 "cells": [
  {
   "cell_type": "markdown",
   "metadata": {
    "slideshow": {
     "slide_type": "slide"
    }
   },
   "source": [
    "# Working with JupyterHub and Jupyter notebooks\n",
    "\n",
    "This class will involve a lot of work with data using Python 3. To ensure that we're all using the same Python environment, we will be using JupyterHub to interact with a shared Virtual Machine (VM). You can choose whether to work on assignments and exercises in JupyterHub or on your computer, but I will distribute class materials through this service and you will submit your assignments here.\n",
    "\n",
    "For more detailed (and more technical) information about Jupyter Notebooks, [readthedocs](https://jupyter-notebook-beginner-guide.readthedocs.io/en/latest/what_is_jupyter.html)."
   ]
  },
  {
   "cell_type": "markdown",
   "metadata": {
    "slideshow": {
     "slide_type": "slide"
    }
   },
   "source": [
    "## What is JupyterHub?\n",
    "\n",
    "JupyterHub allows multiple users to run Jupyter notebooks using shared resources. In our case, that means we're all sharing processors and RAM, and it also means that we're running off the same installation of Python (via anaconda).\n",
    "\n",
    "JupyterHub uses a browser to provide a GUI to interact with the VM that it is running on.  \n",
    "*This is the same GUI that Jupyter Notebooks uses if you run Notebooks on your local machine.*\n",
    "![GUI_image](./resources/GUI_image.png)\n"
   ]
  },
  {
   "cell_type": "markdown",
   "metadata": {},
   "source": [
    "Using JupyterHub, we can edit file paths and directory structure (i.e., rename items, create new folders, and move items around). The various options for editing files and folders won't appear until the checkboxes next to those items are selected.  \n",
    "\n",
    "![GUI_file_edit_image](./resources/GUI_file_edit_image.png)\n",
    "We can also upload new files and create new plain text files (which can be used to make CSVs, JSONs, and other file types that we will use later; these are file types that are formatted in UTF-8 with no special encoding). If we need to, we can also open a terminal and use normal Linux bash commands.\n",
    "![GUI_operations_image](./resources/GUI_operations_image.png)"
   ]
  },
  {
   "cell_type": "markdown",
   "metadata": {},
   "source": [
    "## Jupyter Notebooks\n",
    "\n",
    "The most common thing we will do with JupyterHub, though, is create and edit Python 3 notebooks.\n",
    "![GUI_create_notebook_image](./resources/GUI_create_notebook_image.png)\n",
    "\n",
    "This object we are looking at now (this thing you're reading) is a Jupyter notebook running a Python 3 kernel.    \n",
    "By using notebooks instead of some other coding environment (like an interactive Python session), we can mix text (in Markdown, a syntax for formatting text) with Python code and the output of Python code. The Python actually executes inside the notebook, too.  \n",
    "Because we are using JupyterHub to run notebooks instead of running them on our local machines, we don't have to worry about installation and setup. If you want to install and setup Jupyter Notebooks on your computer, though, you can do so via Anaconda or pip (see [this blog post](https://medium.com/codingthesmartway-com-blog/getting-started-with-jupyter-notebook-for-python-4e7082bd5d46) for more instructions)."
   ]
  },
  {
   "cell_type": "code",
   "execution_count": null,
   "metadata": {},
   "outputs": [],
   "source": [
    "print(\"I can write Python code in this notebook, too!\")"
   ]
  },
  {
   "cell_type": "markdown",
   "metadata": {},
   "source": [
    "To switch to Markdown, we need to select \"Markdown\" instead of \"Code\" in the toolbar at the top of the window.  \n",
    "![change_to_markdown](./resources/change_to_markdown.png)"
   ]
  },
  {
   "cell_type": "markdown",
   "metadata": {},
   "source": [
    "Python in Jupyter Notebooks has autocomplete, which helps a lot with coding! To pull up options for autocomplete, hit `tab` at any time."
   ]
  },
  {
   "cell_type": "markdown",
   "metadata": {},
   "source": [
    "Any \"code\" cell will have an indicator on the side that lets you know whether the cell has been run -- if there is a number inside the brackets, that cell has been run. If you've used IPython, you might have noticed this feature there, too.   \n",
    "  \n",
    "The numbers in the brackets tell you the order in which run cells were executed: `[1]` was run before `[2]` which was run before `[3]`, etc.  \n",
    "  \n",
    "When you write code in notebooks, that code won't disappear unless you delete it (either by deleting the code inside a cell or by deleting the entire cell). That means it's easier to re-run a cell (perhaps if we modify the code in it) than it would be if we were just writing code in a Python session. This means that, as we're working on notebooks, we might not always run cells strictly in the same order in which they appear in the notebook. But the numbers that appear next to code cells that have run will always be an accurate log of which order the cells were run in. Those numbers reset when you restart the kernel or start a notebook that isn't currently running.  \n",
    "  \n",
    "One other important feature of the numbers: they only appear once the code in the cell has finished executing. If a cell contains code that takes a while to run, it will take a while for the number to appear. This can be a little confusing if you *re-run* a cell that takes a while to execute: until it finishes executing, the brackets will contain a number corresponding to when the cell was previously executed.\n",
    "\n",
    "Before this cell is run:\n",
    "![code_run_pre](./resources/code_run_pre.png)\n",
    "After this cell is run:\n",
    "![code_run_post](./resources/code_run_post.png)"
   ]
  },
  {
   "cell_type": "markdown",
   "metadata": {},
   "source": [
    "### Running Python\n",
    "\n",
    "Because cells each contain a group of lines of code that are logically connected, in some cases, we might only write one line of code in a cell, but more often we'll write multiple lines.    \n",
    "As you've probably noticed by now, we don't run individual lines in the notebook. Instead, we run cells. That means that if there is more than one line of Python code in a cell, all of those lines of code will be executed when we run that cell. "
   ]
  },
  {
   "cell_type": "code",
   "execution_count": null,
   "metadata": {},
   "outputs": [],
   "source": [
    "addition = \"Adding numbers together\"\n",
    "seven = 2 + 5"
   ]
  },
  {
   "cell_type": "code",
   "execution_count": null,
   "metadata": {},
   "outputs": [],
   "source": [
    "print(addition)\n",
    "print(seven)"
   ]
  },
  {
   "cell_type": "markdown",
   "metadata": {},
   "source": [
    "You probably know that running some code even without explicit print statements leads to output. For example, run the next cell."
   ]
  },
  {
   "cell_type": "code",
   "execution_count": null,
   "metadata": {},
   "outputs": [],
   "source": [
    "2+5"
   ]
  },
  {
   "cell_type": "markdown",
   "metadata": {},
   "source": [
    "You might also know that if we run more than one line that generates output without an explicit print statement at the same time, only the last statement will actually generate its output. Remind yourself with the next cell."
   ]
  },
  {
   "cell_type": "code",
   "execution_count": null,
   "metadata": {},
   "outputs": [],
   "source": [
    "2 + 5\n",
    "4 * 2"
   ]
  },
  {
   "cell_type": "markdown",
   "metadata": {},
   "source": [
    "It's a good idea to include an explicit print statement any time we want the notebook to generate output."
   ]
  },
  {
   "cell_type": "code",
   "execution_count": null,
   "metadata": {},
   "outputs": [],
   "source": [
    "print(2+5)\n",
    "print(4*2)"
   ]
  },
  {
   "cell_type": "markdown",
   "metadata": {},
   "source": [
    "Notebooks work like Python sessions. One of the consequences of that is that variables defined in cells don't actually exist until the cell is run."
   ]
  },
  {
   "cell_type": "code",
   "execution_count": null,
   "metadata": {},
   "outputs": [],
   "source": [
    "print(a_new_variable)"
   ]
  },
  {
   "cell_type": "code",
   "execution_count": null,
   "metadata": {},
   "outputs": [],
   "source": [
    "a_new_variable = \"This is a new variable\"\n",
    "print(a_new_variable)"
   ]
  },
  {
   "cell_type": "markdown",
   "metadata": {},
   "source": [
    "When you are editing the code in a notebook, at some point you might decide to run a cell near the bottom of the notebook to see the output, but you'll have to make sure that all of the cells that create variables that are necessary for the cell you care about to run have already been run. If you're in that situation, make sure you check out some of the shortcuts in the \"Cell\" menu up above."
   ]
  },
  {
   "cell_type": "markdown",
   "metadata": {},
   "source": [
    "Another thing you'll notice above: if you run a code cell that throws an exception, the information about that exception will be printed below the cell. Like any bit of Python, if you try to execute a block of code all at once and there is an error halfway through, all of the code until the exception will execute. So if you have a cell with a bug halfway through, any variables created before the bug will exist when you run that cell even though the entire cell doesn't successfully execute."
   ]
  },
  {
   "cell_type": "code",
   "execution_count": null,
   "metadata": {},
   "outputs": [],
   "source": [
    "five = 2 + 3\n",
    "print(a_new_variable)\n",
    "print(another_new_variable)\n",
    "a_third_new_variable = \"This is a third new variable\""
   ]
  },
  {
   "cell_type": "code",
   "execution_count": null,
   "metadata": {},
   "outputs": [],
   "source": [
    "print(five)"
   ]
  },
  {
   "cell_type": "code",
   "execution_count": null,
   "metadata": {},
   "outputs": [],
   "source": [
    "print(a_third_new_variable)"
   ]
  },
  {
   "cell_type": "markdown",
   "metadata": {},
   "source": [
    "One of the great things about notebooks is that they can render visualizations generated in Python in the same window. In-line visualizations can be incredibly convenient, particularly as you are writing code and revising the viz."
   ]
  },
  {
   "cell_type": "code",
   "execution_count": null,
   "metadata": {},
   "outputs": [],
   "source": [
    "import pandas as pd\n",
    "import numpy as np\n",
    "\n",
    "data1 = [{\"Number\": 1, \"Even\": \"False\"}, {\"Number\": 2, \"Even\": \"True\"},\n",
    "        {\"Number\": 3, \"Even\": \"False\"}, {\"Number\": 4, \"Even\": \"True\"},\n",
    "        {\"Number\": 5, \"Even\": \"False\"}, {\"Number\": 6, \"Even\": \"True\"},\n",
    "        {\"Number\": 423, \"Even\": \"False\"}]\n",
    "data1 = pd.DataFrame(data1)\n",
    "data1 = data1[[\"Number\", \"Even\"]]\n",
    "data1[\"Even\"].value_counts().plot.pie()"
   ]
  },
  {
   "cell_type": "markdown",
   "metadata": {},
   "source": [
    "### More about Notebooks  \n",
    "\n",
    "#### Saving\n",
    "\n",
    "Each notebook is a separate file (with a .ipynb file extension). Like all files, we can edit them as much as we want, and changes won't be saved unless we actively save the file.  \n",
    "There is an autosave function in Jupyter, but don't rely on autosaving -- get in the habit of deliberately saving the files frequently.  "
   ]
  },
  {
   "cell_type": "markdown",
   "metadata": {},
   "source": [
    "#### Starting and stopping\n",
    "\n",
    "When we open a notebook, it starts a new process within Jupyter.  \n",
    "\n",
    "When we create a notebook, Jupyter expects us to choose a kernel to use with that notebook.\n",
    "![GUI_create_notebook_image](./resources/GUI_create_notebook_image.png)\n",
    "In this image, we can see two kernel choices. In this class, we will always use the one called \"CINF496\". This kernel specifies the correct Python environment that has all of the packages that we'll need.  "
   ]
  },
  {
   "cell_type": "markdown",
   "metadata": {},
   "source": [
    "In some ways, starting a notebook is like starting a Python session from a particular directory. One consequence of that is that, if we interact with other files from within a notebook, we can either use full paths for those files or we can use relative paths with the directory that contains the notebook as the reference path. We'll talk more about this next week.  \n",
    "Another way that notebook sessions are like Python sessions: we can have multiple notebooks open at the same time, and each open notebook is its own independent session (so, for example, a variable that exists in one notebook session won't exist in a different notebook session). Generally speaking, though, it's better to not have more than one notebook running at the same time.  "
   ]
  },
  {
   "cell_type": "markdown",
   "metadata": {},
   "source": [
    "In some ways, notebooks are quite a bit different than Python sessions. Most importantly, notebook sessions don't end when you close the notebook window. This means you can re-enter an active notebook session after you close the notebook window. In the main Jupyter page, if there are notebooks in the folder you are currently viewing, running notebooks will have a green logo...  \n",
    "![running_notebook](./resources/running_notebook.png)\n",
    "and notebooks that aren't running will be black.  \n",
    "![stopped_notebook](./resources/stopped_notebook.png)\n"
   ]
  },
  {
   "cell_type": "markdown",
   "metadata": {},
   "source": [
    "**Important: you have to remember to shutdown each notebook when you want to exit it. You can do this in a few different ways.**  \n",
    "  1) In a notebook window, open the Kernel menu and click \"Shutdown\".\n",
    "  ![kernel_shutdown](./resources/kernel_shutdown.png)\n",
    "  2) From the main Jupyter page, check the box next to the running notebook, then click \"Shutdown\".\n",
    "  ![gui_shutdown](./resources/gui_shutdown.png)\n",
    "  3) From the main Jupyter page, click the \"Running\" tab, find the notebook you want to stop, then click \"Shutdown\".\n",
    "  ![running_shutdown](./resources/running_shutdown.png)\n",
    "  \n",
    "I can't stress enough the importance of remembering to do this. Since we're using JupyterHub deployed to a VM, we are all sharing computational resources (like CPUs and memory). Active notebooks use resources, and many of those resources aren't released until a notebook is shutdown.  \n",
    "  \n",
    "Periodically, I will check the admin dashboard to see if anyone is signed in to Jupyter but hasn't been active recently. If we are pushing the limit of our VM's resources, I may forcibely sign out users who are signed in but haven't been active for a while.  \n",
    "But there might be occasions in this class where the fact that notebook sessions don't stop when we close the notebook windows can be useful for us. Particularly towards the end of the semester, some of our tasks might take a while to run. Notebooks deployed to a VM allow us to start those processes then disconnect from the VM without stopping the processes.  "
   ]
  },
  {
   "cell_type": "markdown",
   "metadata": {},
   "source": [
    "## Transferring Files\n",
    "\n",
    "Sometimes, you might find that you need to transfer files between your computer and JupyterHub. Jupyter makes that really easy.\n",
    "\n",
    "To download a file, simply click on the box beside the file. A list of possible file actions will appear above the list of files. One of those possibilities is \"download.\" If you click download, the file will be downloaded to your machine. Unfortunately, you can't select multiple files at once to download.\n",
    "\n",
    "![download_files](./resources/download_image.png)"
   ]
  },
  {
   "cell_type": "markdown",
   "metadata": {},
   "source": [
    "Uploading files is just as easy. Once you're in the folder you want to upload the file to, just click \"upload\" in the top right, then follow the normal file upload process. \n",
    "\n",
    "![upload_image](./resources/upload_image.png)\n",
    "\n",
    "Once you've selected the file you want to upload, Jupyter will give you a chance to change the name before it actually does the upload. **Make sure you click upload once you see a screen like this or your file won't actually be uploaded.**\n",
    "![upload_part2_image](./resources/upload_part2_image.png)"
   ]
  }
 ],
 "metadata": {
  "kernelspec": {
   "display_name": "CINF496",
   "language": "python",
   "name": "cinf496"
  },
  "language_info": {
   "codemirror_mode": {
    "name": "ipython",
    "version": 3
   },
   "file_extension": ".py",
   "mimetype": "text/x-python",
   "name": "python",
   "nbconvert_exporter": "python",
   "pygments_lexer": "ipython3",
   "version": "3.7.3"
  },
  "pycharm": {
   "stem_cell": {
    "cell_type": "raw",
    "metadata": {
     "collapsed": false
    },
    "source": []
   }
  }
 },
 "nbformat": 4,
 "nbformat_minor": 2
}
